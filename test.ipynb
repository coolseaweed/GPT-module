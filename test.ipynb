{
 "cells": [
  {
   "cell_type": "code",
   "execution_count": 1,
   "metadata": {},
   "outputs": [],
   "source": [
    "from openai import OpenAI\n",
    "from dotenv import load_dotenv\n",
    "import os\n",
    "import json\n",
    "import pandas as pd\n",
    "from tqdm import tqdm\n",
    "from pathlib import Path\n",
    "\n",
    "load_dotenv()\n",
    "\n",
    "API_KEY = os.getenv(\"OPENAI_API_KEY\")\n",
    "MODEL = \"gpt-4o-mini\"\n",
    "DATA_PATH = Path(\"data/Y-combinator-portfolio.csv\")\n",
    "OUTPUT_PATH = \"results/\" + DATA_PATH.stem + \".json\"\n",
    "client = OpenAI(api_key=API_KEY)\n"
   ]
  },
  {
   "cell_type": "code",
   "execution_count": 2,
   "metadata": {},
   "outputs": [],
   "source": [
    "def load_csv(file_path):\n",
    "    data = pd.read_csv(file_path)\n",
    "    return data.to_dict(orient=\"records\")\n",
    "\n",
    "\n",
    "def load_json(file_path):\n",
    "    with open(file_path, \"r\", encoding=\"utf-8\") as json_file:\n",
    "        data = json.load(json_file)\n",
    "    return data\n",
    "\n",
    "\n",
    "# data = load_json(DATA_PATH)\n",
    "data = load_csv(DATA_PATH)\n",
    "\n"
   ]
  },
  {
   "cell_type": "code",
   "execution_count": 39,
   "metadata": {},
   "outputs": [],
   "source": [
    "\n",
    "OUTPUT_FORMAT = \"\"\"\n",
    "json\n",
    "{\n",
    "\"이름\": \"회사 이름 type: str\", \n",
    "\"현상\": \"현재 회사에서 풀고있는 문제의 현상 type: list\",\n",
    "\"문제\": \"현재 풀고 있는 회사의 문제 정의 type: list\",\n",
    "\"솔루션\": \"현재 회사에서 제시하는 해결방안 type: str\",\n",
    "\"서비스\": \"현재 회사에서 제공하는 서비스 type: list\",\n",
    "\"시장크기\": \"현재 회사가 목표로 하는 시장의 크기 (단위 1000 달러) type: int\",\n",
    "\"한국의 비슷한 서비스\": \"한국에서 비슷한 서비스를 제공하는 회사들 type: list\",\n",
    "\"매출액\": \"현재 회사 매출액 (단위 1000 달러) type: int\",\n",
    "\"시가총액\": \"현재 회사 시가총액 (단위 1000 달러) type: int\",\n",
    "}\n",
    "\"\"\"\n",
    "\n",
    "INPUT_PROMPT= f\"\"\"\n",
    "너는 전문 기업 분석가야. 내가 Y-combinator의 포트폴리오 데이터를 입력하면 아래의 OUTPUT FORMAT에 맞는 키워드들을 분석해서 추출해줘.\n",
    "OUTPUT FORMAT: \\n{OUTPUT_FORMAT}\n",
    "\"\"\""
   ]
  },
  {
   "cell_type": "code",
   "execution_count": null,
   "metadata": {},
   "outputs": [],
   "source": [
    "results = []\n",
    "\n",
    "for item in tqdm(data[:]):\n",
    "    \n",
    "    item_str = json.dumps(item, ensure_ascii=False)\n",
    "    response = client.chat.completions.create(\n",
    "        model=MODEL,\n",
    "        response_format={\"type\": \"json_object\"},\n",
    "        messages=[\n",
    "            {\n",
    "                \"role\": \"system\",\n",
    "                \"content\": INPUT_PROMPT,\n",
    "            },\n",
    "            {\"role\": \"user\", \"content\": item_str},\n",
    "        ],\n",
    "    )\n",
    "\n",
    "    message = response.choices[0].message.content\n",
    "    parsed_message = json.loads(message)\n",
    "    results.append(parsed_message)\n",
    "    \n",
    "    print(parsed_message)\n"
   ]
  },
  {
   "cell_type": "code",
   "execution_count": 41,
   "metadata": {},
   "outputs": [],
   "source": [
    "\n",
    "with open(OUTPUT_PATH, \"w\", encoding=\"utf-8\") as json_file:\n",
    "    json.dump(results, json_file, ensure_ascii=False, indent=4)\n"
   ]
  },
  {
   "cell_type": "code",
   "execution_count": 16,
   "metadata": {},
   "outputs": [
    {
     "name": "stdout",
     "output_type": "stream",
     "text": [
      "1539\n"
     ]
    }
   ],
   "source": [
    "from notion_client import Client\n",
    "import os\n",
    "import json\n",
    "import pandas as pd\n",
    "\n",
    "\n",
    "NOTION_TOKEN = os.getenv(\"NOTION_TOKEN\")\n",
    "NOTION_DATABASE_ID = \"11d4f3ea5efb806bba6fe472193c87dc\"\n",
    "RESULTPATH = \"results/Y-combinator-portfolio_v1.json\"\n",
    "\n",
    "notion = Client(auth=NOTION_TOKEN)\n",
    "\n",
    "\n",
    "with open(RESULTPATH, \"r\", encoding=\"utf-8\") as json_file:\n",
    "    results = json.load(json_file)\n",
    "\n",
    "df_results = pd.DataFrame.from_records(results)\n",
    "\n",
    "\n",
    "df_ref = pd.read_csv(DATA_PATH)\n",
    "df_ref.rename(columns={'name': '이름'}, inplace=True)\n",
    "df = pd.merge(df_results, df_ref, on='이름', how='left')\n",
    "print(len(df))"
   ]
  },
  {
   "cell_type": "code",
   "execution_count": 17,
   "metadata": {},
   "outputs": [],
   "source": [
    "def text_norm(str):\n",
    "    return str.replace(\",\",\"\")"
   ]
  },
  {
   "cell_type": "code",
   "execution_count": 15,
   "metadata": {},
   "outputs": [],
   "source": [
    "\n",
    "exceptions = []\n",
    "for idx, row in df.iterrows():\n",
    "    try:\n",
    "        notion.pages.create(\n",
    "            parent={\"database_id\": NOTION_DATABASE_ID},\n",
    "            properties={\n",
    "                \"이름\": {\"title\": [{\"text\": {\"content\": text_norm(row[\"이름\"])}}]},\n",
    "                \"설명\": {\"rich_text\": [{\"text\": {\"content\": text_norm(row[\"description\"])}}]},\n",
    "                \"산업\": {\"multi_select\": [{\"name\": text_norm(x)} for x in row[\"industries\"].split(\", \")]}, \n",
    "                \"현상\": {\"multi_select\": [{\"name\": text_norm(x)} for x in row[\"현상\"]]},\n",
    "                \"문제\": {\"multi_select\": [{\"name\": text_norm(x)} for x in row[\"문제\"]]},\n",
    "                \"솔루션\": {\"rich_text\": [{\"text\": {\"content\": text_norm(row[\"솔루션\"])}}]},\n",
    "                \"경쟁력\": {\"rich_text\": [{\"text\": {\"content\": text_norm(row[\"경쟁력\"])}}]},\n",
    "                \"서비스\": {\"multi_select\": [{\"name\": text_norm(x)} for x in row[\"서비스\"]]},\n",
    "                \"경쟁사\": {\"multi_select\": [{\"name\": text_norm(x)} for x in row[\"경쟁사\"]]},\n",
    "                \"시장크기\": {\"number\": row[\"시장크기\"]},\n",
    "                \"한국의 비슷한 서비스\": {\"multi_select\": [{\"name\": text_norm(x)} for x in row[\"한국의 비슷한 서비스\"]]},\n",
    "                \"매출액\": {\"number\": row[\"매출액\"]},\n",
    "                \"시가총액\": {\"number\": row[\"시가총액\"]},\n",
    "                \"위치\": {\"multi_select\": [{\"name\": x} for x in row[\"location\"].split(\", \")]},\n",
    "            },\n",
    "        )\n",
    "    except Exception as e:\n",
    "        print(e)\n",
    "        print(row)\n",
    "        print(\"error\")\n",
    "        exceptions.append(row)\n",
    "        continue\n",
    "    \n"
   ]
  },
  {
   "cell_type": "code",
   "execution_count": 18,
   "metadata": {},
   "outputs": [],
   "source": [
    "with open(\"exceptions.json\", \"w\", encoding=\"utf-8\") as json_file:\n",
    "    json.dump([ ex.to_dict() for ex in exceptions], json_file, ensure_ascii=False, indent=4)\n",
    "        \n",
    "    \n"
   ]
  },
  {
   "cell_type": "code",
   "execution_count": null,
   "metadata": {},
   "outputs": [],
   "source": []
  }
 ],
 "metadata": {
  "kernelspec": {
   "display_name": "base",
   "language": "python",
   "name": "python3"
  },
  "language_info": {
   "codemirror_mode": {
    "name": "ipython",
    "version": 3
   },
   "file_extension": ".py",
   "mimetype": "text/x-python",
   "name": "python",
   "nbconvert_exporter": "python",
   "pygments_lexer": "ipython3",
   "version": "3.12.2"
  }
 },
 "nbformat": 4,
 "nbformat_minor": 2
}
